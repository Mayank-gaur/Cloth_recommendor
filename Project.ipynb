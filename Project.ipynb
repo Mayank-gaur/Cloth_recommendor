{
  "nbformat": 4,
  "nbformat_minor": 0,
  "metadata": {
    "colab": {
      "name": "Project.ipynb",
      "provenance": []
    },
    "kernelspec": {
      "name": "python3",
      "display_name": "Python 3"
    },
    "language_info": {
      "name": "python"
    }
  },
  "cells": [
    {
      "cell_type": "code",
      "execution_count": null,
      "metadata": {
        "id": "0P1PiZBikdy2"
      },
      "outputs": [],
      "source": [
        "import os\n",
        "from PIL import Image\n",
        "from torchvision import transforms\n",
        "\n",
        "# needed input dimensions for the CNN\n",
        "inputDim = (224,224)\n",
        "inputDir = \"bottoms_resized_png\"\n",
        "inputDirCNN = \"inputImagesCNN\"\n",
        "\n",
        "os.makedirs(inputDirCNN, exist_ok = True)\n",
        "\n",
        "transformationForCNNInput = transforms.Compose([transforms.Resize(inputDim)])\n",
        "\n",
        "for imageName in os.listdir(inputDir):\n",
        "  I = Image.open(os.path.join(inputDir, imageName))\n",
        "  newI = transformationForCNNInput(I)\n",
        "  # copy the rotation information metadata from original image and save, else your transformed images may be rotated\n",
        "  # exif = I.info['exif']\n",
        "  newI.save(os.path.join(inputDirCNN, imageName))\n",
        "    \n",
        "  newI.close()\n",
        "  I.close()\n"
      ]
    },
    {
      "cell_type": "code",
      "source": [
        "import torch\n",
        "from tqdm import tqdm\n",
        "from torchvision import models\n",
        "\n",
        "# for this prototype we use no gpu, cuda= False and as model resnet18 to obtain feature vectors\n",
        "\n",
        "class Img2VecResnet18():\n",
        "    def __init__(self):\n",
        "        \n",
        "        self.device = torch.device(\"cpu\")\n",
        "        self.numberFeatures = 512\n",
        "        self.modelName = \"resnet-18\"\n",
        "        self.model, self.featureLayer = self.getFeatureLayer()\n",
        "        self.model = self.model.to(self.device)\n",
        "        self.model.eval()\n",
        "        self.toTensor = transforms.ToTensor()\n",
        "        \n",
        "        # normalize the resized images as expected by resnet18\n",
        "        # [0.485, 0.456, 0.406] --> normalized mean value of ImageNet, [0.229, 0.224, 0.225] std of ImageNet\n",
        "        self.normalize = transforms.Normalize(mean=[0.485, 0.456, 0.406], std=[0.229, 0.224, 0.225])\n",
        "        \n",
        "    def getVec(self, img):\n",
        "        image = self.normalize(self.toTensor(img)).unsqueeze(0).to(self.device)\n",
        "        embedding = torch.zeros(1, self.numberFeatures, 1, 1)\n",
        "\n",
        "        def copyData(m, i, o): embedding.copy_(o.data)\n",
        "\n",
        "        h = self.featureLayer.register_forward_hook(copyData)\n",
        "        self.model(image)\n",
        "        h.remove()\n",
        "\n",
        "        return embedding.numpy()[0, :, 0, 0]\n",
        "\n",
        "    def getFeatureLayer(self):\n",
        "        \n",
        "        cnnModel = models.resnet18(pretrained=True)\n",
        "        layer = cnnModel._modules.get('avgpool')\n",
        "        self.layer_output_size = 512\n",
        "        \n",
        "        return cnnModel, layer\n",
        "        \n",
        "\n",
        "# generate vectors for all the images in the set\n",
        "img2vec = Img2VecResnet18() \n",
        "\n",
        "allVectors = {}\n",
        "print(\"Converting images to feature vectors:\")\n",
        "for image in tqdm(os.listdir(\"inputImagesCNN\")):\n",
        "    I = Image.open(os.path.join(\"inputImagesCNN\", image)).convert('RGB')\n",
        "    vec = img2vec.getVec(I)\n",
        "    allVectors[image] = vec\n",
        "    I.close() "
      ],
      "metadata": {
        "colab": {
          "base_uri": "https://localhost:8080/"
        },
        "id": "_pZ13p3IqGMu",
        "outputId": "6691a724-2db0-46f1-d92f-0f05811501f1"
      },
      "execution_count": null,
      "outputs": [
        {
          "output_type": "stream",
          "name": "stdout",
          "text": [
            "Converting images to feature vectors:\n"
          ]
        },
        {
          "output_type": "stream",
          "name": "stderr",
          "text": [
            "100%|██████████| 1050/1050 [01:37<00:00, 10.76it/s]\n"
          ]
        }
      ]
    },
    {
      "cell_type": "code",
      "source": [
        "# now let us define a function that calculates the cosine similarity entries in the similarity matrix\n",
        "import pandas as pd\n",
        "import numpy as np\n",
        "\n",
        "def getSimilarityMatrix(vectors):\n",
        "    v = np.array(list(vectors.values())).T\n",
        "    sim = np.inner(v.T, v.T) / ((np.linalg.norm(v, axis=0).reshape(-1,1)) * ((np.linalg.norm(v, axis=0).reshape(-1,1)).T))\n",
        "    keys = list(vectors.keys())\n",
        "    matrix = pd.DataFrame(sim, columns = keys, index = keys)\n",
        "    \n",
        "    return matrix\n",
        "        \n",
        "similarityMatrix = getSimilarityMatrix(allVectors)"
      ],
      "metadata": {
        "id": "JSfk9hN30qie"
      },
      "execution_count": null,
      "outputs": []
    },
    {
      "cell_type": "code",
      "source": [
        "from numpy.testing import assert_almost_equal\n",
        "import pickle\n",
        "\n",
        "k = 10 # the number of top similar images to be stored\n",
        "\n",
        "similarNames = pd.DataFrame(index = similarityMatrix.index, columns = range(k))\n",
        "similarValues = pd.DataFrame(index = similarityMatrix.index, columns = range(k))\n",
        "\n",
        "for j in tqdm(range(similarityMatrix.shape[0])):\n",
        "    kSimilar = similarityMatrix.iloc[j, :].sort_values(ascending = False).head(k)\n",
        "    similarNames.iloc[j, :] = list(kSimilar.index)\n",
        "    similarValues.iloc[j, :] = kSimilar.values\n",
        "    \n",
        "similarNames.to_pickle(\"similarNames.pkl\")\n",
        "similarValues.to_pickle(\"similarValues.pkl\")"
      ],
      "metadata": {
        "colab": {
          "base_uri": "https://localhost:8080/"
        },
        "id": "aWOTwjtS2eeO",
        "outputId": "7ef6199a-8c6b-4572-98d2-11df83437e9a"
      },
      "execution_count": null,
      "outputs": [
        {
          "output_type": "stream",
          "name": "stderr",
          "text": [
            "100%|██████████| 1050/1050 [00:00<00:00, 1637.64it/s]\n"
          ]
        }
      ]
    },
    {
      "cell_type": "code",
      "source": [
        "import matplotlib.pyplot as plt\n",
        "    \n",
        "# take three examples from the provided image set and plot\n",
        "inputImages = [\"13079565VVD.png\"]\n",
        "\n",
        "numCol = 5\n",
        "numRow = 1\n",
        "\n",
        "def setAxes(ax, image, query = False, **kwargs):\n",
        "    value = kwargs.get(\"value\", None)\n",
        "    if query:\n",
        "        ax.set_xlabel(\"Query Image\\n{0}\".format(image), fontsize = 12)\n",
        "    else:\n",
        "        ax.set_xlabel(\"Similarity value {1:1.3f}\\n{0}\".format( image,  value), fontsize = 12)\n",
        "    ax.set_xticks([])\n",
        "    ax.set_yticks([])\n",
        "    \n",
        "def getSimilarImages(image, simNames, simVals):\n",
        "    if image in set(simNames.index):\n",
        "        imgs = list(simNames.loc[image, :])\n",
        "        vals = list(simVals.loc[image, :])\n",
        "        if image in imgs:\n",
        "            assert_almost_equal(max(vals), 1, decimal = 5)\n",
        "            imgs.remove(image)\n",
        "            vals.remove(max(vals))\n",
        "        return imgs, vals\n",
        "    else:\n",
        "        print(\"'{}' Unknown image\".format(image))\n",
        "        \n",
        "def plotSimilarImages(image, simiarNames, similarValues):\n",
        "    simImages, simValues = getSimilarImages(image, similarNames, similarValues)\n",
        "    fig = plt.figure(figsize=(10, 20))\n",
        "    \n",
        "    # now plot the  most simliar images\n",
        "    for j in range(0, numCol*numRow):\n",
        "        ax = []\n",
        "        if j == 0:\n",
        "            img = Image.open(os.path.join(inputDir, image))\n",
        "            ax = fig.add_subplot(numRow, numCol, 1)\n",
        "            setAxes(ax, image, query = True)\n",
        "        else:\n",
        "            img = Image.open(os.path.join(inputDir, simImages[j-1]))\n",
        "            ax.append(fig.add_subplot(numRow, numCol, j+1))\n",
        "            setAxes(ax[-1], simImages[j-1], value = simValues[j-1])\n",
        "        img = img.convert('RGB')\n",
        "        plt.imshow(img)\n",
        "        img.close()\n",
        "    \n",
        "    plt.show()\n",
        "        \n",
        "for image in inputImages:\n",
        "    plotSimilarImages(image, similarNames, similarValues)"
      ],
      "metadata": {
        "colab": {
          "base_uri": "https://localhost:8080/",
          "height": 207
        },
        "id": "Xti9RRiN2iku",
        "outputId": "34f39112-d6c4-4ec3-95b1-6804cc555c81"
      },
      "execution_count": null,
      "outputs": [
        {
          "output_type": "display_data",
          "data": {
            "text/plain": [
              "<Figure size 720x1440 with 5 Axes>"
            ],
            "image/png": "[encoded data removed]"
          },
          "metadata": {}
        }
      ]
    },
    {
      "cell_type": "code",
      "source": [
        ""
      ],
      "metadata": {
        "id": "DuVyjpIu2pAu"
      },
      "execution_count": null,
      "outputs": []
    }
  ]
}